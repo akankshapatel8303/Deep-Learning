{
 "cells": [
  {
   "cell_type": "code",
   "execution_count": 101,
   "id": "5619d93f-cbe9-4a59-bc86-185aaeb34a8f",
   "metadata": {},
   "outputs": [],
   "source": [
    "import pandas as pd\n",
    "df = pd.read_csv('Admission_Predict.csv')"
   ]
  },
  {
   "cell_type": "code",
   "execution_count": 102,
   "id": "ca367de5-1055-4e8b-b841-7419687ec4b1",
   "metadata": {},
   "outputs": [
    {
     "data": {
      "text/html": [
       "<div>\n",
       "<style scoped>\n",
       "    .dataframe tbody tr th:only-of-type {\n",
       "        vertical-align: middle;\n",
       "    }\n",
       "\n",
       "    .dataframe tbody tr th {\n",
       "        vertical-align: top;\n",
       "    }\n",
       "\n",
       "    .dataframe thead th {\n",
       "        text-align: right;\n",
       "    }\n",
       "</style>\n",
       "<table border=\"1\" class=\"dataframe\">\n",
       "  <thead>\n",
       "    <tr style=\"text-align: right;\">\n",
       "      <th></th>\n",
       "      <th>Serial No.</th>\n",
       "      <th>GRE Score</th>\n",
       "      <th>TOEFL Score</th>\n",
       "      <th>University Rating</th>\n",
       "      <th>SOP</th>\n",
       "      <th>LOR</th>\n",
       "      <th>CGPA</th>\n",
       "      <th>Research</th>\n",
       "      <th>Chance of Admit</th>\n",
       "    </tr>\n",
       "  </thead>\n",
       "  <tbody>\n",
       "    <tr>\n",
       "      <th>0</th>\n",
       "      <td>1</td>\n",
       "      <td>337</td>\n",
       "      <td>118</td>\n",
       "      <td>4</td>\n",
       "      <td>4.5</td>\n",
       "      <td>4.5</td>\n",
       "      <td>9.65</td>\n",
       "      <td>1</td>\n",
       "      <td>0.92</td>\n",
       "    </tr>\n",
       "    <tr>\n",
       "      <th>1</th>\n",
       "      <td>2</td>\n",
       "      <td>324</td>\n",
       "      <td>107</td>\n",
       "      <td>4</td>\n",
       "      <td>4.0</td>\n",
       "      <td>4.5</td>\n",
       "      <td>8.87</td>\n",
       "      <td>1</td>\n",
       "      <td>0.76</td>\n",
       "    </tr>\n",
       "    <tr>\n",
       "      <th>2</th>\n",
       "      <td>3</td>\n",
       "      <td>316</td>\n",
       "      <td>104</td>\n",
       "      <td>3</td>\n",
       "      <td>3.0</td>\n",
       "      <td>3.5</td>\n",
       "      <td>8.00</td>\n",
       "      <td>1</td>\n",
       "      <td>0.72</td>\n",
       "    </tr>\n",
       "    <tr>\n",
       "      <th>3</th>\n",
       "      <td>4</td>\n",
       "      <td>322</td>\n",
       "      <td>110</td>\n",
       "      <td>3</td>\n",
       "      <td>3.5</td>\n",
       "      <td>2.5</td>\n",
       "      <td>8.67</td>\n",
       "      <td>1</td>\n",
       "      <td>0.80</td>\n",
       "    </tr>\n",
       "    <tr>\n",
       "      <th>4</th>\n",
       "      <td>5</td>\n",
       "      <td>314</td>\n",
       "      <td>103</td>\n",
       "      <td>2</td>\n",
       "      <td>2.0</td>\n",
       "      <td>3.0</td>\n",
       "      <td>8.21</td>\n",
       "      <td>0</td>\n",
       "      <td>0.65</td>\n",
       "    </tr>\n",
       "  </tbody>\n",
       "</table>\n",
       "</div>"
      ],
      "text/plain": [
       "   Serial No.  GRE Score  TOEFL Score  University Rating  SOP  LOR   CGPA  \\\n",
       "0           1        337          118                  4  4.5   4.5  9.65   \n",
       "1           2        324          107                  4  4.0   4.5  8.87   \n",
       "2           3        316          104                  3  3.0   3.5  8.00   \n",
       "3           4        322          110                  3  3.5   2.5  8.67   \n",
       "4           5        314          103                  2  2.0   3.0  8.21   \n",
       "\n",
       "   Research  Chance of Admit   \n",
       "0         1              0.92  \n",
       "1         1              0.76  \n",
       "2         1              0.72  \n",
       "3         1              0.80  \n",
       "4         0              0.65  "
      ]
     },
     "execution_count": 102,
     "metadata": {},
     "output_type": "execute_result"
    }
   ],
   "source": [
    "df.head()"
   ]
  },
  {
   "cell_type": "code",
   "execution_count": 103,
   "id": "c89260e7-0e11-4ee8-ab1b-5043e2366a0d",
   "metadata": {},
   "outputs": [],
   "source": [
    "df.drop(columns=['Serial No.'], inplace=True)"
   ]
  },
  {
   "cell_type": "code",
   "execution_count": 104,
   "id": "149b65a0-1447-4053-aa8a-3a7c9665b825",
   "metadata": {},
   "outputs": [
    {
     "data": {
      "text/html": [
       "<div>\n",
       "<style scoped>\n",
       "    .dataframe tbody tr th:only-of-type {\n",
       "        vertical-align: middle;\n",
       "    }\n",
       "\n",
       "    .dataframe tbody tr th {\n",
       "        vertical-align: top;\n",
       "    }\n",
       "\n",
       "    .dataframe thead th {\n",
       "        text-align: right;\n",
       "    }\n",
       "</style>\n",
       "<table border=\"1\" class=\"dataframe\">\n",
       "  <thead>\n",
       "    <tr style=\"text-align: right;\">\n",
       "      <th></th>\n",
       "      <th>GRE Score</th>\n",
       "      <th>TOEFL Score</th>\n",
       "      <th>University Rating</th>\n",
       "      <th>SOP</th>\n",
       "      <th>LOR</th>\n",
       "      <th>CGPA</th>\n",
       "      <th>Research</th>\n",
       "      <th>Chance of Admit</th>\n",
       "    </tr>\n",
       "  </thead>\n",
       "  <tbody>\n",
       "    <tr>\n",
       "      <th>0</th>\n",
       "      <td>337</td>\n",
       "      <td>118</td>\n",
       "      <td>4</td>\n",
       "      <td>4.5</td>\n",
       "      <td>4.5</td>\n",
       "      <td>9.65</td>\n",
       "      <td>1</td>\n",
       "      <td>0.92</td>\n",
       "    </tr>\n",
       "    <tr>\n",
       "      <th>1</th>\n",
       "      <td>324</td>\n",
       "      <td>107</td>\n",
       "      <td>4</td>\n",
       "      <td>4.0</td>\n",
       "      <td>4.5</td>\n",
       "      <td>8.87</td>\n",
       "      <td>1</td>\n",
       "      <td>0.76</td>\n",
       "    </tr>\n",
       "    <tr>\n",
       "      <th>2</th>\n",
       "      <td>316</td>\n",
       "      <td>104</td>\n",
       "      <td>3</td>\n",
       "      <td>3.0</td>\n",
       "      <td>3.5</td>\n",
       "      <td>8.00</td>\n",
       "      <td>1</td>\n",
       "      <td>0.72</td>\n",
       "    </tr>\n",
       "  </tbody>\n",
       "</table>\n",
       "</div>"
      ],
      "text/plain": [
       "   GRE Score  TOEFL Score  University Rating  SOP  LOR   CGPA  Research  \\\n",
       "0        337          118                  4  4.5   4.5  9.65         1   \n",
       "1        324          107                  4  4.0   4.5  8.87         1   \n",
       "2        316          104                  3  3.0   3.5  8.00         1   \n",
       "\n",
       "   Chance of Admit   \n",
       "0              0.92  \n",
       "1              0.76  \n",
       "2              0.72  "
      ]
     },
     "execution_count": 104,
     "metadata": {},
     "output_type": "execute_result"
    }
   ],
   "source": [
    "df.head(3)"
   ]
  },
  {
   "cell_type": "code",
   "execution_count": 105,
   "id": "31f53357-f64f-4172-b6df-50f0d5d6686a",
   "metadata": {},
   "outputs": [
    {
     "data": {
      "text/plain": [
       "(400, 8)"
      ]
     },
     "execution_count": 105,
     "metadata": {},
     "output_type": "execute_result"
    }
   ],
   "source": [
    "df.shape"
   ]
  },
  {
   "cell_type": "code",
   "execution_count": 106,
   "id": "dd9ff170-82f5-44e4-b8d9-69e7922add70",
   "metadata": {},
   "outputs": [
    {
     "name": "stdout",
     "output_type": "stream",
     "text": [
      "<class 'pandas.core.frame.DataFrame'>\n",
      "RangeIndex: 400 entries, 0 to 399\n",
      "Data columns (total 8 columns):\n",
      " #   Column             Non-Null Count  Dtype  \n",
      "---  ------             --------------  -----  \n",
      " 0   GRE Score          400 non-null    int64  \n",
      " 1   TOEFL Score        400 non-null    int64  \n",
      " 2   University Rating  400 non-null    int64  \n",
      " 3   SOP                400 non-null    float64\n",
      " 4   LOR                400 non-null    float64\n",
      " 5   CGPA               400 non-null    float64\n",
      " 6   Research           400 non-null    int64  \n",
      " 7   Chance of Admit    400 non-null    float64\n",
      "dtypes: float64(4), int64(4)\n",
      "memory usage: 25.1 KB\n"
     ]
    }
   ],
   "source": [
    "df.info()"
   ]
  },
  {
   "cell_type": "code",
   "execution_count": 107,
   "id": "19021d69-ca59-4cd4-a93e-90fa935664a9",
   "metadata": {},
   "outputs": [
    {
     "data": {
      "text/plain": [
       "0"
      ]
     },
     "execution_count": 107,
     "metadata": {},
     "output_type": "execute_result"
    }
   ],
   "source": [
    "df.duplicated().sum()"
   ]
  },
  {
   "cell_type": "code",
   "execution_count": 108,
   "id": "f1ff3ae7-84ce-4d63-99f5-06acaac04563",
   "metadata": {},
   "outputs": [],
   "source": [
    "X = df.iloc[:, 0:-1]\n",
    "y = df.iloc[:, -1]"
   ]
  },
  {
   "cell_type": "code",
   "execution_count": 109,
   "id": "0f19e5f1-d3e4-4ec0-9bc9-0b009db920b4",
   "metadata": {},
   "outputs": [],
   "source": [
    "from sklearn.model_selection import train_test_split\n",
    "X_train, X_test, y_train, y_test = train_test_split(X, y, test_size=0.2, random_state=1)"
   ]
  },
  {
   "cell_type": "code",
   "execution_count": 110,
   "id": "1cc6091d-3c08-4123-afb3-293830695785",
   "metadata": {},
   "outputs": [
    {
     "data": {
      "text/plain": [
       "((320, 7), (80, 7))"
      ]
     },
     "execution_count": 110,
     "metadata": {},
     "output_type": "execute_result"
    }
   ],
   "source": [
    "X_train.shape, X_test.shape"
   ]
  },
  {
   "cell_type": "code",
   "execution_count": 111,
   "id": "e259b789-dc10-41fb-be89-ebedb9172c7e",
   "metadata": {},
   "outputs": [],
   "source": [
    "from sklearn.preprocessing import MinMaxScaler\n",
    "scaler = MinMaxScaler()\n",
    "X_train_scaler = scaler.fit_transform(X_train)\n",
    "X_test_scaler = scaler.transform(X_test)"
   ]
  },
  {
   "cell_type": "code",
   "execution_count": 112,
   "id": "11fdf8da-6822-41e5-a3a2-ebba84690f41",
   "metadata": {},
   "outputs": [
    {
     "data": {
      "text/plain": [
       "array([[0.22      , 0.17857143, 0.25      , ..., 0.42857143, 0.25      ,\n",
       "        1.        ],\n",
       "       [0.88      , 0.96428571, 1.        , ..., 0.85714286, 0.91911765,\n",
       "        1.        ],\n",
       "       [0.3       , 0.71428571, 0.5       , ..., 0.57142857, 0.53308824,\n",
       "        0.        ],\n",
       "       ...,\n",
       "       [0.7       , 0.53571429, 0.5       , ..., 0.57142857, 0.70220588,\n",
       "        1.        ],\n",
       "       [0.72      , 0.67857143, 1.        , ..., 0.71428571, 0.74632353,\n",
       "        1.        ],\n",
       "       [0.2       , 0.46428571, 0.        , ..., 0.14285714, 0.22058824,\n",
       "        0.        ]])"
      ]
     },
     "execution_count": 112,
     "metadata": {},
     "output_type": "execute_result"
    }
   ],
   "source": [
    "X_train_scaler"
   ]
  },
  {
   "cell_type": "code",
   "execution_count": 113,
   "id": "3b5a1a4f-d18c-45be-a959-56e5ce1e2443",
   "metadata": {},
   "outputs": [],
   "source": [
    "import tensorflow\n",
    "from tensorflow import keras\n",
    "from keras import Sequential\n",
    "from keras.layers import Dense"
   ]
  },
  {
   "cell_type": "code",
   "execution_count": 114,
   "id": "f48c4414-9022-46c1-a32a-846a0842efbd",
   "metadata": {},
   "outputs": [],
   "source": [
    "model = Sequential()\n",
    "\n",
    "model.add(Dense(7, activation='relu', input_dim=7))\n",
    "# model.add(Dense(7, activation='relu'))\n",
    "model.add(Dense(1, activation='linear'))"
   ]
  },
  {
   "cell_type": "code",
   "execution_count": 115,
   "id": "c1fdb8ef-8df2-4ef3-aa71-f85299e8d1e1",
   "metadata": {},
   "outputs": [
    {
     "name": "stdout",
     "output_type": "stream",
     "text": [
      "Model: \"sequential_8\"\n",
      "_________________________________________________________________\n",
      " Layer (type)                Output Shape              Param #   \n",
      "=================================================================\n",
      " dense_16 (Dense)            (None, 7)                 56        \n",
      "                                                                 \n",
      " dense_17 (Dense)            (None, 1)                 8         \n",
      "                                                                 \n",
      "=================================================================\n",
      "Total params: 64\n",
      "Trainable params: 64\n",
      "Non-trainable params: 0\n",
      "_________________________________________________________________\n"
     ]
    }
   ],
   "source": [
    "model.summary()"
   ]
  },
  {
   "cell_type": "code",
   "execution_count": 116,
   "id": "ed8b8ced-aed5-48d1-84b1-da49c84ca3af",
   "metadata": {},
   "outputs": [],
   "source": [
    "model.compile(loss='mean_squared_error', optimizer='Adam')"
   ]
  },
  {
   "cell_type": "code",
   "execution_count": 117,
   "id": "98bd8ae8-0211-4b09-abe4-81e3b77b353d",
   "metadata": {},
   "outputs": [
    {
     "name": "stdout",
     "output_type": "stream",
     "text": [
      "Epoch 1/150\n",
      "8/8 [==============================] - 1s 46ms/step - loss: 1.4553 - val_loss: 1.4919\n",
      "Epoch 2/150\n",
      "8/8 [==============================] - 0s 24ms/step - loss: 1.2814 - val_loss: 1.3089\n",
      "Epoch 3/150\n",
      "8/8 [==============================] - 0s 19ms/step - loss: 1.1190 - val_loss: 1.1328\n",
      "Epoch 4/150\n",
      "8/8 [==============================] - 0s 19ms/step - loss: 0.9618 - val_loss: 0.9681\n",
      "Epoch 5/150\n",
      "8/8 [==============================] - 0s 15ms/step - loss: 0.8187 - val_loss: 0.8102\n",
      "Epoch 6/150\n",
      "8/8 [==============================] - 0s 19ms/step - loss: 0.6792 - val_loss: 0.6609\n",
      "Epoch 7/150\n",
      "8/8 [==============================] - 0s 19ms/step - loss: 0.5482 - val_loss: 0.5226\n",
      "Epoch 8/150\n",
      "8/8 [==============================] - 0s 16ms/step - loss: 0.4267 - val_loss: 0.3979\n",
      "Epoch 9/150\n",
      "8/8 [==============================] - 0s 20ms/step - loss: 0.3143 - val_loss: 0.2938\n",
      "Epoch 10/150\n",
      "8/8 [==============================] - 0s 18ms/step - loss: 0.2256 - val_loss: 0.2062\n",
      "Epoch 11/150\n",
      "8/8 [==============================] - 0s 22ms/step - loss: 0.1547 - val_loss: 0.1362\n",
      "Epoch 12/150\n",
      "8/8 [==============================] - 0s 22ms/step - loss: 0.0997 - val_loss: 0.0849\n",
      "Epoch 13/150\n",
      "8/8 [==============================] - 0s 18ms/step - loss: 0.0605 - val_loss: 0.0480\n",
      "Epoch 14/150\n",
      "8/8 [==============================] - 0s 18ms/step - loss: 0.0342 - val_loss: 0.0249\n",
      "Epoch 15/150\n",
      "8/8 [==============================] - 0s 18ms/step - loss: 0.0202 - val_loss: 0.0144\n",
      "Epoch 16/150\n",
      "8/8 [==============================] - 0s 20ms/step - loss: 0.0141 - val_loss: 0.0115\n",
      "Epoch 17/150\n",
      "8/8 [==============================] - 0s 20ms/step - loss: 0.0132 - val_loss: 0.0110\n",
      "Epoch 18/150\n",
      "8/8 [==============================] - 0s 19ms/step - loss: 0.0131 - val_loss: 0.0108\n",
      "Epoch 19/150\n",
      "8/8 [==============================] - 0s 20ms/step - loss: 0.0130 - val_loss: 0.0105\n",
      "Epoch 20/150\n",
      "8/8 [==============================] - 0s 19ms/step - loss: 0.0126 - val_loss: 0.0102\n",
      "Epoch 21/150\n",
      "8/8 [==============================] - 0s 19ms/step - loss: 0.0124 - val_loss: 0.0099\n",
      "Epoch 22/150\n",
      "8/8 [==============================] - 0s 18ms/step - loss: 0.0121 - val_loss: 0.0097\n",
      "Epoch 23/150\n",
      "8/8 [==============================] - 0s 22ms/step - loss: 0.0119 - val_loss: 0.0095\n",
      "Epoch 24/150\n",
      "8/8 [==============================] - 0s 19ms/step - loss: 0.0118 - val_loss: 0.0093\n",
      "Epoch 25/150\n",
      "8/8 [==============================] - 0s 19ms/step - loss: 0.0116 - val_loss: 0.0091\n",
      "Epoch 26/150\n",
      "8/8 [==============================] - 0s 19ms/step - loss: 0.0114 - val_loss: 0.0088\n",
      "Epoch 27/150\n",
      "8/8 [==============================] - 0s 19ms/step - loss: 0.0113 - val_loss: 0.0086\n",
      "Epoch 28/150\n",
      "8/8 [==============================] - 0s 22ms/step - loss: 0.0111 - val_loss: 0.0084\n",
      "Epoch 29/150\n",
      "8/8 [==============================] - 0s 23ms/step - loss: 0.0109 - val_loss: 0.0082\n",
      "Epoch 30/150\n",
      "8/8 [==============================] - 0s 19ms/step - loss: 0.0108 - val_loss: 0.0081\n",
      "Epoch 31/150\n",
      "8/8 [==============================] - 0s 19ms/step - loss: 0.0107 - val_loss: 0.0079\n",
      "Epoch 32/150\n",
      "8/8 [==============================] - 0s 19ms/step - loss: 0.0105 - val_loss: 0.0077\n",
      "Epoch 33/150\n",
      "8/8 [==============================] - 0s 19ms/step - loss: 0.0104 - val_loss: 0.0076\n",
      "Epoch 34/150\n",
      "8/8 [==============================] - 0s 18ms/step - loss: 0.0103 - val_loss: 0.0075\n",
      "Epoch 35/150\n",
      "8/8 [==============================] - 0s 19ms/step - loss: 0.0101 - val_loss: 0.0073\n",
      "Epoch 36/150\n",
      "8/8 [==============================] - 0s 19ms/step - loss: 0.0100 - val_loss: 0.0072\n",
      "Epoch 37/150\n",
      "8/8 [==============================] - 0s 19ms/step - loss: 0.0099 - val_loss: 0.0070\n",
      "Epoch 38/150\n",
      "8/8 [==============================] - 0s 19ms/step - loss: 0.0098 - val_loss: 0.0069\n",
      "Epoch 39/150\n",
      "8/8 [==============================] - 0s 70ms/step - loss: 0.0097 - val_loss: 0.0068\n",
      "Epoch 40/150\n",
      "8/8 [==============================] - 0s 18ms/step - loss: 0.0096 - val_loss: 0.0067\n",
      "Epoch 41/150\n",
      "8/8 [==============================] - 0s 20ms/step - loss: 0.0095 - val_loss: 0.0066\n",
      "Epoch 42/150\n",
      "8/8 [==============================] - 0s 20ms/step - loss: 0.0094 - val_loss: 0.0065\n",
      "Epoch 43/150\n",
      "8/8 [==============================] - 0s 18ms/step - loss: 0.0093 - val_loss: 0.0064\n",
      "Epoch 44/150\n",
      "8/8 [==============================] - 0s 20ms/step - loss: 0.0092 - val_loss: 0.0063\n",
      "Epoch 45/150\n",
      "8/8 [==============================] - 0s 19ms/step - loss: 0.0091 - val_loss: 0.0062\n",
      "Epoch 46/150\n",
      "8/8 [==============================] - 0s 19ms/step - loss: 0.0090 - val_loss: 0.0061\n",
      "Epoch 47/150\n",
      "8/8 [==============================] - 0s 20ms/step - loss: 0.0089 - val_loss: 0.0061\n",
      "Epoch 48/150\n",
      "8/8 [==============================] - 0s 19ms/step - loss: 0.0088 - val_loss: 0.0060\n",
      "Epoch 49/150\n",
      "8/8 [==============================] - 0s 20ms/step - loss: 0.0088 - val_loss: 0.0059\n",
      "Epoch 50/150\n",
      "8/8 [==============================] - 0s 19ms/step - loss: 0.0087 - val_loss: 0.0058\n",
      "Epoch 51/150\n",
      "8/8 [==============================] - 0s 23ms/step - loss: 0.0086 - val_loss: 0.0057\n",
      "Epoch 52/150\n",
      "8/8 [==============================] - 0s 19ms/step - loss: 0.0085 - val_loss: 0.0057\n",
      "Epoch 53/150\n",
      "8/8 [==============================] - 0s 22ms/step - loss: 0.0084 - val_loss: 0.0056\n",
      "Epoch 54/150\n",
      "8/8 [==============================] - 0s 23ms/step - loss: 0.0084 - val_loss: 0.0056\n",
      "Epoch 55/150\n",
      "8/8 [==============================] - 0s 16ms/step - loss: 0.0083 - val_loss: 0.0055\n",
      "Epoch 56/150\n",
      "8/8 [==============================] - 0s 17ms/step - loss: 0.0082 - val_loss: 0.0054\n",
      "Epoch 57/150\n",
      "8/8 [==============================] - 0s 15ms/step - loss: 0.0082 - val_loss: 0.0054\n",
      "Epoch 58/150\n",
      "8/8 [==============================] - 0s 15ms/step - loss: 0.0081 - val_loss: 0.0053\n",
      "Epoch 59/150\n",
      "8/8 [==============================] - 0s 19ms/step - loss: 0.0080 - val_loss: 0.0053\n",
      "Epoch 60/150\n",
      "8/8 [==============================] - 0s 21ms/step - loss: 0.0080 - val_loss: 0.0053\n",
      "Epoch 61/150\n",
      "8/8 [==============================] - 0s 18ms/step - loss: 0.0079 - val_loss: 0.0052\n",
      "Epoch 62/150\n",
      "8/8 [==============================] - 0s 16ms/step - loss: 0.0078 - val_loss: 0.0051\n",
      "Epoch 63/150\n",
      "8/8 [==============================] - 0s 16ms/step - loss: 0.0078 - val_loss: 0.0050\n",
      "Epoch 64/150\n",
      "8/8 [==============================] - 0s 18ms/step - loss: 0.0077 - val_loss: 0.0050\n",
      "Epoch 65/150\n",
      "8/8 [==============================] - 0s 17ms/step - loss: 0.0076 - val_loss: 0.0050\n",
      "Epoch 66/150\n",
      "8/8 [==============================] - 0s 19ms/step - loss: 0.0076 - val_loss: 0.0050\n",
      "Epoch 67/150\n",
      "8/8 [==============================] - 0s 18ms/step - loss: 0.0075 - val_loss: 0.0049\n",
      "Epoch 68/150\n",
      "8/8 [==============================] - 0s 17ms/step - loss: 0.0074 - val_loss: 0.0049\n",
      "Epoch 69/150\n",
      "8/8 [==============================] - 0s 20ms/step - loss: 0.0074 - val_loss: 0.0048\n",
      "Epoch 70/150\n",
      "8/8 [==============================] - 0s 18ms/step - loss: 0.0073 - val_loss: 0.0048\n",
      "Epoch 71/150\n",
      "8/8 [==============================] - 0s 15ms/step - loss: 0.0073 - val_loss: 0.0047\n",
      "Epoch 72/150\n",
      "8/8 [==============================] - 0s 18ms/step - loss: 0.0072 - val_loss: 0.0047\n",
      "Epoch 73/150\n",
      "8/8 [==============================] - 0s 18ms/step - loss: 0.0072 - val_loss: 0.0047\n",
      "Epoch 74/150\n",
      "8/8 [==============================] - 0s 17ms/step - loss: 0.0071 - val_loss: 0.0046\n",
      "Epoch 75/150\n",
      "8/8 [==============================] - 0s 19ms/step - loss: 0.0071 - val_loss: 0.0046\n",
      "Epoch 76/150\n",
      "8/8 [==============================] - 0s 15ms/step - loss: 0.0070 - val_loss: 0.0046\n",
      "Epoch 77/150\n",
      "8/8 [==============================] - 0s 18ms/step - loss: 0.0069 - val_loss: 0.0045\n",
      "Epoch 78/150\n",
      "8/8 [==============================] - 0s 17ms/step - loss: 0.0069 - val_loss: 0.0045\n",
      "Epoch 79/150\n",
      "8/8 [==============================] - 0s 24ms/step - loss: 0.0069 - val_loss: 0.0045\n",
      "Epoch 80/150\n",
      "8/8 [==============================] - 0s 19ms/step - loss: 0.0068 - val_loss: 0.0045\n",
      "Epoch 81/150\n",
      "8/8 [==============================] - 0s 17ms/step - loss: 0.0068 - val_loss: 0.0045\n",
      "Epoch 82/150\n",
      "8/8 [==============================] - 0s 17ms/step - loss: 0.0067 - val_loss: 0.0044\n",
      "Epoch 83/150\n",
      "8/8 [==============================] - 0s 21ms/step - loss: 0.0067 - val_loss: 0.0043\n",
      "Epoch 84/150\n",
      "8/8 [==============================] - 0s 20ms/step - loss: 0.0066 - val_loss: 0.0043\n",
      "Epoch 85/150\n",
      "8/8 [==============================] - 0s 18ms/step - loss: 0.0066 - val_loss: 0.0043\n",
      "Epoch 86/150\n",
      "8/8 [==============================] - 0s 19ms/step - loss: 0.0065 - val_loss: 0.0043\n",
      "Epoch 87/150\n",
      "8/8 [==============================] - 0s 18ms/step - loss: 0.0065 - val_loss: 0.0043\n",
      "Epoch 88/150\n",
      "8/8 [==============================] - 0s 18ms/step - loss: 0.0064 - val_loss: 0.0042\n",
      "Epoch 89/150\n",
      "8/8 [==============================] - 0s 19ms/step - loss: 0.0064 - val_loss: 0.0042\n",
      "Epoch 90/150\n",
      "8/8 [==============================] - 0s 15ms/step - loss: 0.0063 - val_loss: 0.0042\n",
      "Epoch 91/150\n",
      "8/8 [==============================] - 0s 15ms/step - loss: 0.0063 - val_loss: 0.0042\n",
      "Epoch 92/150\n",
      "8/8 [==============================] - 0s 19ms/step - loss: 0.0063 - val_loss: 0.0042\n",
      "Epoch 93/150\n",
      "8/8 [==============================] - 0s 21ms/step - loss: 0.0062 - val_loss: 0.0041\n",
      "Epoch 94/150\n",
      "8/8 [==============================] - 0s 69ms/step - loss: 0.0062 - val_loss: 0.0041\n",
      "Epoch 95/150\n",
      "8/8 [==============================] - 0s 16ms/step - loss: 0.0061 - val_loss: 0.0041\n",
      "Epoch 96/150\n",
      "8/8 [==============================] - 0s 21ms/step - loss: 0.0061 - val_loss: 0.0041\n",
      "Epoch 97/150\n",
      "8/8 [==============================] - 0s 20ms/step - loss: 0.0061 - val_loss: 0.0041\n",
      "Epoch 98/150\n",
      "8/8 [==============================] - 0s 18ms/step - loss: 0.0060 - val_loss: 0.0040\n",
      "Epoch 99/150\n",
      "8/8 [==============================] - 0s 18ms/step - loss: 0.0060 - val_loss: 0.0040\n",
      "Epoch 100/150\n",
      "8/8 [==============================] - 0s 15ms/step - loss: 0.0060 - val_loss: 0.0040\n",
      "Epoch 101/150\n",
      "8/8 [==============================] - 0s 19ms/step - loss: 0.0059 - val_loss: 0.0040\n",
      "Epoch 102/150\n",
      "8/8 [==============================] - 0s 16ms/step - loss: 0.0059 - val_loss: 0.0040\n",
      "Epoch 103/150\n",
      "8/8 [==============================] - 0s 18ms/step - loss: 0.0059 - val_loss: 0.0040\n",
      "Epoch 104/150\n",
      "8/8 [==============================] - 0s 18ms/step - loss: 0.0058 - val_loss: 0.0039\n",
      "Epoch 105/150\n",
      "8/8 [==============================] - 0s 18ms/step - loss: 0.0058 - val_loss: 0.0040\n",
      "Epoch 106/150\n",
      "8/8 [==============================] - 0s 18ms/step - loss: 0.0058 - val_loss: 0.0039\n",
      "Epoch 107/150\n",
      "8/8 [==============================] - 0s 16ms/step - loss: 0.0057 - val_loss: 0.0040\n",
      "Epoch 108/150\n",
      "8/8 [==============================] - 0s 18ms/step - loss: 0.0057 - val_loss: 0.0039\n",
      "Epoch 109/150\n",
      "8/8 [==============================] - 0s 18ms/step - loss: 0.0057 - val_loss: 0.0039\n",
      "Epoch 110/150\n",
      "8/8 [==============================] - 0s 19ms/step - loss: 0.0056 - val_loss: 0.0039\n",
      "Epoch 111/150\n",
      "8/8 [==============================] - 0s 21ms/step - loss: 0.0056 - val_loss: 0.0039\n",
      "Epoch 112/150\n",
      "8/8 [==============================] - 0s 18ms/step - loss: 0.0056 - val_loss: 0.0039\n",
      "Epoch 113/150\n",
      "8/8 [==============================] - 0s 20ms/step - loss: 0.0056 - val_loss: 0.0039\n",
      "Epoch 114/150\n",
      "8/8 [==============================] - 0s 18ms/step - loss: 0.0055 - val_loss: 0.0039\n",
      "Epoch 115/150\n",
      "8/8 [==============================] - 0s 19ms/step - loss: 0.0055 - val_loss: 0.0039\n",
      "Epoch 116/150\n",
      "8/8 [==============================] - 0s 18ms/step - loss: 0.0055 - val_loss: 0.0038\n",
      "Epoch 117/150\n",
      "8/8 [==============================] - 0s 18ms/step - loss: 0.0055 - val_loss: 0.0039\n",
      "Epoch 118/150\n",
      "8/8 [==============================] - 0s 18ms/step - loss: 0.0054 - val_loss: 0.0038\n",
      "Epoch 119/150\n",
      "8/8 [==============================] - 0s 18ms/step - loss: 0.0054 - val_loss: 0.0038\n",
      "Epoch 120/150\n",
      "8/8 [==============================] - 0s 19ms/step - loss: 0.0054 - val_loss: 0.0038\n",
      "Epoch 121/150\n",
      "8/8 [==============================] - 0s 19ms/step - loss: 0.0054 - val_loss: 0.0038\n",
      "Epoch 122/150\n",
      "8/8 [==============================] - 0s 19ms/step - loss: 0.0053 - val_loss: 0.0038\n",
      "Epoch 123/150\n",
      "8/8 [==============================] - 0s 18ms/step - loss: 0.0053 - val_loss: 0.0038\n",
      "Epoch 124/150\n",
      "8/8 [==============================] - 0s 19ms/step - loss: 0.0053 - val_loss: 0.0038\n",
      "Epoch 125/150\n",
      "8/8 [==============================] - 0s 17ms/step - loss: 0.0053 - val_loss: 0.0038\n",
      "Epoch 126/150\n",
      "8/8 [==============================] - 0s 18ms/step - loss: 0.0052 - val_loss: 0.0038\n",
      "Epoch 127/150\n",
      "8/8 [==============================] - 0s 19ms/step - loss: 0.0052 - val_loss: 0.0037\n",
      "Epoch 128/150\n",
      "8/8 [==============================] - 0s 15ms/step - loss: 0.0052 - val_loss: 0.0038\n",
      "Epoch 129/150\n",
      "8/8 [==============================] - 0s 19ms/step - loss: 0.0052 - val_loss: 0.0038\n",
      "Epoch 130/150\n",
      "8/8 [==============================] - 0s 65ms/step - loss: 0.0052 - val_loss: 0.0038\n",
      "Epoch 131/150\n",
      "8/8 [==============================] - 0s 25ms/step - loss: 0.0051 - val_loss: 0.0037\n",
      "Epoch 132/150\n",
      "8/8 [==============================] - 0s 19ms/step - loss: 0.0051 - val_loss: 0.0037\n",
      "Epoch 133/150\n",
      "8/8 [==============================] - 0s 19ms/step - loss: 0.0051 - val_loss: 0.0037\n",
      "Epoch 134/150\n",
      "8/8 [==============================] - 0s 18ms/step - loss: 0.0051 - val_loss: 0.0037\n",
      "Epoch 135/150\n",
      "8/8 [==============================] - 0s 18ms/step - loss: 0.0051 - val_loss: 0.0038\n",
      "Epoch 136/150\n",
      "8/8 [==============================] - 0s 20ms/step - loss: 0.0051 - val_loss: 0.0037\n",
      "Epoch 137/150\n",
      "8/8 [==============================] - 0s 17ms/step - loss: 0.0050 - val_loss: 0.0038\n",
      "Epoch 138/150\n",
      "8/8 [==============================] - 0s 15ms/step - loss: 0.0050 - val_loss: 0.0037\n",
      "Epoch 139/150\n",
      "8/8 [==============================] - 0s 19ms/step - loss: 0.0050 - val_loss: 0.0037\n",
      "Epoch 140/150\n",
      "8/8 [==============================] - 0s 16ms/step - loss: 0.0050 - val_loss: 0.0037\n",
      "Epoch 141/150\n",
      "8/8 [==============================] - 0s 18ms/step - loss: 0.0050 - val_loss: 0.0037\n",
      "Epoch 142/150\n",
      "8/8 [==============================] - 0s 19ms/step - loss: 0.0050 - val_loss: 0.0037\n",
      "Epoch 143/150\n",
      "8/8 [==============================] - 0s 15ms/step - loss: 0.0049 - val_loss: 0.0037\n",
      "Epoch 144/150\n",
      "8/8 [==============================] - 0s 15ms/step - loss: 0.0049 - val_loss: 0.0037\n",
      "Epoch 145/150\n",
      "8/8 [==============================] - 0s 19ms/step - loss: 0.0049 - val_loss: 0.0037\n",
      "Epoch 146/150\n",
      "8/8 [==============================] - 0s 19ms/step - loss: 0.0049 - val_loss: 0.0037\n",
      "Epoch 147/150\n",
      "8/8 [==============================] - 0s 19ms/step - loss: 0.0049 - val_loss: 0.0037\n",
      "Epoch 148/150\n",
      "8/8 [==============================] - 0s 19ms/step - loss: 0.0049 - val_loss: 0.0037\n",
      "Epoch 149/150\n",
      "8/8 [==============================] - 0s 20ms/step - loss: 0.0049 - val_loss: 0.0037\n",
      "Epoch 150/150\n",
      "8/8 [==============================] - 0s 19ms/step - loss: 0.0048 - val_loss: 0.0037\n"
     ]
    }
   ],
   "source": [
    "history = model.fit(X_train_scaler, y_train, epochs=150, validation_split=0.2)"
   ]
  },
  {
   "cell_type": "code",
   "execution_count": 118,
   "id": "63eafbb2-0de0-4381-be38-0259f2cfef71",
   "metadata": {},
   "outputs": [
    {
     "name": "stdout",
     "output_type": "stream",
     "text": [
      "3/3 [==============================] - 0s 4ms/step\n"
     ]
    }
   ],
   "source": [
    "y_pred = model.predict(X_test_scaler)"
   ]
  },
  {
   "cell_type": "code",
   "execution_count": 119,
   "id": "3f6495c4-a5db-4dff-8258-6636a7016d18",
   "metadata": {},
   "outputs": [
    {
     "data": {
      "text/plain": [
       "0.7551161011716476"
      ]
     },
     "execution_count": 119,
     "metadata": {},
     "output_type": "execute_result"
    }
   ],
   "source": [
    "from sklearn.metrics import r2_score\n",
    "r2_score(y_test, y_pred)"
   ]
  },
  {
   "cell_type": "code",
   "execution_count": 120,
   "id": "c1788040-02eb-4c30-b552-ff5047764b47",
   "metadata": {},
   "outputs": [
    {
     "data": {
      "text/plain": [
       "[<matplotlib.lines.Line2D at 0x2371606e510>]"
      ]
     },
     "execution_count": 120,
     "metadata": {},
     "output_type": "execute_result"
    },
    {
     "data": {
      "image/png": "[encoded data removed]",
      "text/plain": [
       "<Figure size 640x480 with 1 Axes>"
      ]
     },
     "metadata": {},
     "output_type": "display_data"
    }
   ],
   "source": [
    "import matplotlib.pyplot as plt\n",
    "plt.plot(history.history['loss'])\n",
    "plt.plot(history.history['val_loss'])"
   ]
  },
  {
   "cell_type": "code",
   "execution_count": null,
   "id": "f4c2c94c-e3c1-420f-a3a8-46aa183b38d0",
   "metadata": {},
   "outputs": [],
   "source": []
  }
 ],
 "metadata": {
  "kernelspec": {
   "display_name": "Python 3 (ipykernel)",
   "language": "python",
   "name": "python3"
  },
  "language_info": {
   "codemirror_mode": {
    "name": "ipython",
    "version": 3
   },
   "file_extension": ".py",
   "mimetype": "text/x-python",
   "name": "python",
   "nbconvert_exporter": "python",
   "pygments_lexer": "ipython3",
   "version": "3.11.0"
  }
 },
 "nbformat": 4,
 "nbformat_minor": 5
}
